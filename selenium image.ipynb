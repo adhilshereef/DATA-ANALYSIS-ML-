{
 "cells": [
  {
   "cell_type": "code",
   "execution_count": 11,
   "metadata": {},
   "outputs": [
    {
     "name": "stdout",
     "output_type": "stream",
     "text": [
      "https://fls-eu.amazon.in/1/batch/1/OP/A21TJRUUN4KGV:257-7850200-5574144:D5HSBNWTMRQZ10JV6WSP$uedata=s:%2Fgp%2Fuedata%3Fstaticb%26id%3DD5HSBNWTMRQZ10JV6WSP:0\n",
      "https://images-eu.ssl-images-amazon.com/images/G/31/gno/sprites/nav-sprite-global_bluebeacon-V3-1x_optimized._CB468962293_.png\n",
      "https://images-eu.ssl-images-amazon.com/images/G/31/x-locale/common/transparent-pixel._CB386942716_.gif\n",
      "https://m.media-amazon.com/images/I/71BFl-LKtDL._AC_SX200_SY200_.jpg\n",
      "https://m.media-amazon.com/images/G/31/da/creatives/prime-2x-20170614.png\n",
      "https://m.media-amazon.com/images/I/71zG6yICxGL._AC_SX200_SY200_.jpg\n",
      "https://m.media-amazon.com/images/G/31/da/creatives/prime-2x-20170614.png\n",
      "https://m.media-amazon.com/images/I/71wMGI-4PWL._AC_SX200_SY200_.jpg\n",
      "https://m.media-amazon.com/images/G/31/da/creatives/prime-2x-20170614.png\n",
      "https://aax-eu.amazon-adsystem.com/e/loi/imp?b=IpFMC5Hi8KjnWVGj0Ys_W48AAAFtBPptBgMAAAH2AUXPETY\n",
      "https://m.media-amazon.com/images/I/61lIqh7l1vL._AC_UL320_.jpg\n",
      "https://m.media-amazon.com/images/I/61aQ9XqwgzL._AC_UL320_.jpg\n",
      "https://m.media-amazon.com/images/I/61oFjWFQjEL._AC_UL320_.jpg\n",
      "https://m.media-amazon.com/images/I/51nDwZKsNTL._AC_UL320_.jpg\n",
      "https://m.media-amazon.com/images/I/51V4vV8pTxL._AC_UL320_.jpg\n",
      "https://m.media-amazon.com/images/I/61OGu+jH2pL._AC_UL320_.jpg\n",
      "https://m.media-amazon.com/images/I/71QD0HSZxTL._AC_UL320_.jpg\n",
      "https://m.media-amazon.com/images/I/71pQOgdjhlL._AC_UL320_.jpg\n",
      "https://m.media-amazon.com/images/I/61neL8XOStL._AC_UL320_.jpg\n",
      "https://m.media-amazon.com/images/I/619QzCEW6WL._AC_UL320_.jpg\n",
      "https://m.media-amazon.com/images/I/616V6razjPL._AC_UL320_.jpg\n",
      "https://m.media-amazon.com/images/I/61nunGdHpVL._AC_UL320_.jpg\n",
      "https://m.media-amazon.com/images/I/71Cg+fvO8wL._AC_UL320_.jpg\n",
      "https://m.media-amazon.com/images/I/61ILmFpdfoL._AC_UL320_.jpg\n",
      "https://m.media-amazon.com/images/I/61MgYQuvKnL._AC_UL320_.jpg\n",
      "https://m.media-amazon.com/images/I/61PErY5OU9L._AC_UL320_.jpg\n",
      "https://m.media-amazon.com/images/I/519NYvoJ0sL._AC_UL320_.jpg\n",
      "https://m.media-amazon.com/images/I/8119+dONXWL._AC_UL320_.jpg\n",
      "https://m.media-amazon.com/images/I/61FZS6dZkSL._AC_UL320_.jpg\n",
      "https://m.media-amazon.com/images/I/7197o-NVmFL._AC_UL320_.jpg\n",
      "https://m.media-amazon.com/images/I/61cJ+39nEwL._AC_UL320_.jpg\n",
      "https://m.media-amazon.com/images/I/61S+R996mML._AC_UL320_.jpg\n",
      "https://m.media-amazon.com/images/I/51aoUd+vQ5L._AC_UL320_.jpg\n",
      "https://m.media-amazon.com/images/I/7100AVrgmsL._AC_UL320_.jpg\n",
      "https://m.media-amazon.com/images/I/61LHQMsh8kL._AC_UL320_.jpg\n",
      "https://m.media-amazon.com/images/I/71yoVgOwppL._AC_UL320_.jpg\n",
      "https://m.media-amazon.com/images/I/61z-Uk-7+cL._AC_UL320_.jpg\n",
      "https://m.media-amazon.com/images/I/71Ws2eajdsL._AC_UL320_.jpg\n",
      "https://m.media-amazon.com/images/I/61ZGNU9PdaL._AC_UL320_.jpg\n",
      "https://m.media-amazon.com/images/I/618ceEIlYdL._AC_UL320_.jpg\n",
      "https://m.media-amazon.com/images/I/61u5tpves6L._AC_UL320_.jpg\n",
      "https://m.media-amazon.com/images/I/81PkDF3GZCL._AC_UL320_.jpg\n",
      "https://m.media-amazon.com/images/I/61NB3NSObzL._AC_UL320_.jpg\n",
      "https://m.media-amazon.com/images/I/61Kw-AMBAXL._AC_UL320_.jpg\n",
      "https://m.media-amazon.com/images/I/71CA-9UzDCL._AC_UL320_.jpg\n",
      "https://m.media-amazon.com/images/I/71lwo5A3s7L._AC_UL320_.jpg\n",
      "https://m.media-amazon.com/images/I/71unZjcAdXL._AC_UL320_.jpg\n",
      "https://m.media-amazon.com/images/I/71yZVrPQNyL._AC_UL320_.jpg\n",
      "https://m.media-amazon.com/images/I/716+R-Gr+KL._AC_UL320_.jpg\n",
      "https://m.media-amazon.com/images/I/813R+072UeL._AC_UL320_.jpg\n",
      "https://m.media-amazon.com/images/I/61khcCv4fOL._AC_UL320_.jpg\n",
      "https://m.media-amazon.com/images/I/71UyrFJcV5L._AC_UL320_.jpg\n",
      "https://m.media-amazon.com/images/I/71OJ+LU7oqL._AC_UL320_.jpg\n",
      "https://m.media-amazon.com/images/I/61knSsc9stL._AC_UL320_.jpg\n",
      "https://m.media-amazon.com/images/I/51p6L3KhNjL._AC_UL320_.jpg\n",
      "https://m.media-amazon.com/images/I/61gEeT1yvHL._AC_UL320_.jpg\n",
      "https://m.media-amazon.com/images/I/81TJQ81rwqL._AC_UL320_.jpg\n",
      "https://m.media-amazon.com/images/I/71kmqXR+2GL._AC_UL320_.jpg\n",
      "https://m.media-amazon.com/images/I/71gke3rZiRL._AC_UL320_.jpg\n",
      "https://m.media-amazon.com/images/I/61qcZyJukiL._AC_UL320_.jpg\n",
      "https://m.media-amazon.com/images/I/61+TNBz7o+L._AC_UL320_.jpg\n",
      "https://m.media-amazon.com/images/I/71QJlw4N8mL._AC_UL320_.jpg\n",
      "https://m.media-amazon.com/images/I/71p2taFJjiL._AC_UL320_.jpg\n",
      "https://m.media-amazon.com/images/I/81QWBAegrcL._AC_UL320_.jpg\n",
      "https://m.media-amazon.com/images/I/617XmbQbqKL._AC_UL320_.jpg\n",
      "https://m.media-amazon.com/images/I/81RWmpC1ieL._AC_UL320_.jpg\n",
      "https://aax-eu.amazon-adsystem.com/e/loi/imp?b=IgQcjcETxmeoQL864t52o0wAAAFtBPptCgMAAAH2AfZRBEc\n",
      "https://aax-eu.amazon-adsystem.com/e/loi/imp?b=IvX63vfF0uNNF27yBG8DNBIAAAFtBPptCAMAAAH2AYid3Qg\n",
      "https://aax-eu.amazon-adsystem.com/e/loi/imp?b=Iv_2rH5jXo_Af253K5N2sfAAAAFtBPptDgMAAAH2AZ0uMI4\n",
      "https://images-eu.ssl-images-amazon.com/images/G/31/personalization/ybh/loading-4x-gray._CB317974815_.gif\n",
      "https://assoc-eu.associates-amazon.com/abid/um?s=257-7850200-5574144&m=A21TJRUUN4KGV\n"
     ]
    }
   ],
   "source": [
    "from selenium import webdriver\n",
    "import urllib\n",
    "\n",
    "driver=webdriver.Chrome('/home/cocoslabs/Downloads/chromedriver')\n",
    "\n",
    "\n",
    "driver.get('https://www.amazon.in/s?k=casio+watches+for+boys&crid=5FYWQHT7UXOM&sprefix=casio+w%2Caps%2C332&ref=nb_sb_ss_i_3_7')\n",
    "\n",
    "images = driver.find_elements_by_tag_name('img')\n",
    "for image in images:\n",
    "    print(image.get_attribute('src'))\n",
    "    urllib.urlretrieve(\"http://www.digimouth.com/news/media/2011/09/google-logo.jpg\", \"local-filename.jpg\")\n",
    "driver.close()\n"
   ]
  },
  {
   "cell_type": "code",
   "execution_count": null,
   "metadata": {},
   "outputs": [],
   "source": []
  },
  {
   "cell_type": "code",
   "execution_count": 21,
   "metadata": {},
   "outputs": [
    {
     "name": "stdout",
     "output_type": "stream",
     "text": [
      "Requirement already satisfied: requests in ./anaconda3/lib/python3.7/site-packages (2.22.0)\r\n",
      "Requirement already satisfied: idna<2.9,>=2.5 in ./anaconda3/lib/python3.7/site-packages (from requests) (2.8)\r\n",
      "Requirement already satisfied: chardet<3.1.0,>=3.0.2 in ./anaconda3/lib/python3.7/site-packages (from requests) (3.0.4)\r\n",
      "Requirement already satisfied: urllib3!=1.25.0,!=1.25.1,<1.26,>=1.21.1 in ./anaconda3/lib/python3.7/site-packages (from requests) (1.24.2)\r\n",
      "Requirement already satisfied: certifi>=2017.4.17 in ./anaconda3/lib/python3.7/site-packages (from requests) (2019.6.16)\r\n"
     ]
    }
   ],
   "source": [
    "!pip install requests"
   ]
  },
  {
   "cell_type": "code",
   "execution_count": 24,
   "metadata": {},
   "outputs": [
    {
     "ename": "ModuleNotFoundError",
     "evalue": "No module named 'urllib2'",
     "output_type": "error",
     "traceback": [
      "\u001b[0;31m---------------------------------------------------------------------------\u001b[0m",
      "\u001b[0;31mModuleNotFoundError\u001b[0m                       Traceback (most recent call last)",
      "\u001b[0;32m<ipython-input-24-c4947212f8fe>\u001b[0m in \u001b[0;36m<module>\u001b[0;34m\u001b[0m\n\u001b[1;32m      1\u001b[0m \u001b[0;32mfrom\u001b[0m \u001b[0mbs4\u001b[0m \u001b[0;32mimport\u001b[0m \u001b[0mBeautifulSoup\u001b[0m\u001b[0;34m\u001b[0m\u001b[0;34m\u001b[0m\u001b[0m\n\u001b[0;32m----> 2\u001b[0;31m \u001b[0;32mimport\u001b[0m \u001b[0murllib\u001b[0m\u001b[0;34m.\u001b[0m\u001b[0mrequest\u001b[0m\u001b[0;34m,\u001b[0m\u001b[0murllib2\u001b[0m\u001b[0;34m.\u001b[0m\u001b[0mrequest\u001b[0m\u001b[0;34m\u001b[0m\u001b[0;34m\u001b[0m\u001b[0m\n\u001b[0m\u001b[1;32m      3\u001b[0m \u001b[0;32mfrom\u001b[0m \u001b[0murllib2\u001b[0m\u001b[0;34m.\u001b[0m\u001b[0mrequest\u001b[0m \u001b[0;32mimport\u001b[0m \u001b[0murlopen\u001b[0m\u001b[0;34m\u001b[0m\u001b[0;34m\u001b[0m\u001b[0m\n\u001b[1;32m      4\u001b[0m \u001b[0;34m\u001b[0m\u001b[0m\n\u001b[1;32m      5\u001b[0m \u001b[0;34m\u001b[0m\u001b[0m\n",
      "\u001b[0;31mModuleNotFoundError\u001b[0m: No module named 'urllib2'"
     ]
    }
   ],
   "source": [
    "from bs4 import BeautifulSoup\n",
    "import urllib.request,urllib2.request\n",
    "from urllib2.request import urlopen\n",
    "\n",
    "\n",
    "# use this image scraper from the location that \n",
    "#you want to save scraped images to\n",
    "\n",
    "def make_soup(url):\n",
    "    html = urlopen(url).read()\n",
    "    return BeautifulSoup(html)\n",
    "\n",
    "def get_images(url):\n",
    "    soup = make_soup(url)\n",
    "    #this makes a list of bs4 element tags\n",
    "    images = [img for img in soup.findAll('img')]\n",
    "    print (str(len(images)) + \"images found.\")\n",
    "    print('Downloading images to current working directory.')\n",
    "    #compile our unicode list of image links\n",
    "    image_links = [each.get('src') for each in images]\n",
    "    for each in image_links:\n",
    "        filename=each.split('/')[-1]\n",
    "        urllib.urlretrieve(each, filename)\n",
    "    return image_links\n",
    "\n",
    "#a standard call looks like this\n",
    "#get_images('http://www.wookmark.com')"
   ]
  },
  {
   "cell_type": "code",
   "execution_count": 23,
   "metadata": {},
   "outputs": [
    {
     "name": "stdout",
     "output_type": "stream",
     "text": [
      "Collecting urllib\n",
      "\u001b[31m  ERROR: Could not find a version that satisfies the requirement urllib (from versions: none)\u001b[0m\n",
      "\u001b[31mERROR: No matching distribution found for urllib\u001b[0m\n"
     ]
    }
   ],
   "source": [
    "!pip install urllib"
   ]
  },
  {
   "cell_type": "code",
   "execution_count": null,
   "metadata": {},
   "outputs": [],
   "source": []
  }
 ],
 "metadata": {
  "kernelspec": {
   "display_name": "Python 3",
   "language": "python",
   "name": "python3"
  },
  "language_info": {
   "codemirror_mode": {
    "name": "ipython",
    "version": 3
   },
   "file_extension": ".py",
   "mimetype": "text/x-python",
   "name": "python",
   "nbconvert_exporter": "python",
   "pygments_lexer": "ipython3",
   "version": "3.7.3"
  }
 },
 "nbformat": 4,
 "nbformat_minor": 2
}
