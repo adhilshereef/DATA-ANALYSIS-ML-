{
 "cells": [
  {
   "cell_type": "code",
   "execution_count": 1,
   "metadata": {},
   "outputs": [],
   "source": [
    "file=open(r\"/home/cocoslabs/Downloads/log (2).txt\",\"r\")\n",
    "file1=open(\"/home/cocoslabs/Desktop/log2.txt\",\"w\")\n",
    "content=file.read()\n",
    "\n",
    "lines=content.split(\"\\n\")\n",
    "delete=['Region Avg IOU:', 'Class:', 'No Obj:','Obj:','Avg Recall:', 'count:']\n",
    "for line in lines:\n",
    "    if line.startswith(\"R\"):\n",
    "        line1=line.split(\",\")\n",
    "        for l in line1:\n",
    "            for z in delete:\n",
    "                if z in l:\n",
    "                    l=l.replace(z,\" \")\n",
    "            file1.write(l)\n",
    "        file1.write(\"\\n\")\n",
    "        #print(l,end=\" \")\n",
    "        #print()\n",
    "file.close()\n",
    "file1.close()\n",
    "        "
   ]
  },
  {
   "cell_type": "code",
   "execution_count": 2,
   "metadata": {},
   "outputs": [],
   "source": [
    "import pandas as pd\n",
    "import numpy as np\n",
    "df = pd.read_fwf('/home/cocoslabs/Desktop/log2.txt')\n",
    "df.to_csv('/home/cocoslabs/Desktop/log2.csv')\n",
    "\n"
   ]
  },
  {
   "cell_type": "code",
   "execution_count": 3,
   "metadata": {},
   "outputs": [
    {
     "name": "stderr",
     "output_type": "stream",
     "text": [
      "/home/cocoslabs/anaconda3/lib/python3.7/site-packages/IPython/core/interactiveshell.py:3057: DtypeWarning: Columns (1,2,3,4) have mixed types. Specify dtype option on import or set low_memory=False.\n",
      "  interactivity=interactivity, compiler=compiler, result=result)\n"
     ]
    },
    {
     "data": {
      "text/html": [
       "<div>\n",
       "<style scoped>\n",
       "    .dataframe tbody tr th:only-of-type {\n",
       "        vertical-align: middle;\n",
       "    }\n",
       "\n",
       "    .dataframe tbody tr th {\n",
       "        vertical-align: top;\n",
       "    }\n",
       "\n",
       "    .dataframe thead th {\n",
       "        text-align: right;\n",
       "    }\n",
       "</style>\n",
       "<table border=\"1\" class=\"dataframe\">\n",
       "  <thead>\n",
       "    <tr style=\"text-align: right;\">\n",
       "      <th></th>\n",
       "      <th>sl</th>\n",
       "      <th>region</th>\n",
       "      <th>class</th>\n",
       "      <th>object</th>\n",
       "      <th>no object</th>\n",
       "      <th>avg_recall</th>\n",
       "      <th>count</th>\n",
       "    </tr>\n",
       "  </thead>\n",
       "  <tbody>\n",
       "    <tr>\n",
       "      <th>0</th>\n",
       "      <td>0</td>\n",
       "      <td>0.723046</td>\n",
       "      <td>0.536462</td>\n",
       "      <td>0.700755</td>\n",
       "      <td>0.040624</td>\n",
       "      <td>0.964803</td>\n",
       "      <td>966.0</td>\n",
       "    </tr>\n",
       "    <tr>\n",
       "      <th>1</th>\n",
       "      <td>1</td>\n",
       "      <td>0.722086</td>\n",
       "      <td>0.553014</td>\n",
       "      <td>0.684657</td>\n",
       "      <td>0.040211</td>\n",
       "      <td>0.968847</td>\n",
       "      <td>963.0</td>\n",
       "    </tr>\n",
       "    <tr>\n",
       "      <th>2</th>\n",
       "      <td>2</td>\n",
       "      <td>0.730258</td>\n",
       "      <td>0.591744</td>\n",
       "      <td>0.706416</td>\n",
       "      <td>0.042588</td>\n",
       "      <td>0.980105</td>\n",
       "      <td>955.0</td>\n",
       "    </tr>\n",
       "    <tr>\n",
       "      <th>3</th>\n",
       "      <td>3</td>\n",
       "      <td>0.731453</td>\n",
       "      <td>0.572986</td>\n",
       "      <td>0.723685</td>\n",
       "      <td>0.041615</td>\n",
       "      <td>0.969854</td>\n",
       "      <td>962.0</td>\n",
       "    </tr>\n",
       "    <tr>\n",
       "      <th>4</th>\n",
       "      <td>4</td>\n",
       "      <td>0.738504</td>\n",
       "      <td>0.533186</td>\n",
       "      <td>0.697031</td>\n",
       "      <td>0.042083</td>\n",
       "      <td>0.976963</td>\n",
       "      <td>955.0</td>\n",
       "    </tr>\n",
       "  </tbody>\n",
       "</table>\n",
       "</div>"
      ],
      "text/plain": [
       "   sl    region     class    object no object  avg_recall  count\n",
       "0   0  0.723046  0.536462  0.700755  0.040624    0.964803  966.0\n",
       "1   1  0.722086  0.553014  0.684657  0.040211    0.968847  963.0\n",
       "2   2  0.730258  0.591744  0.706416  0.042588    0.980105  955.0\n",
       "3   3  0.731453  0.572986  0.723685  0.041615    0.969854  962.0\n",
       "4   4  0.738504  0.533186  0.697031  0.042083    0.976963  955.0"
      ]
     },
     "execution_count": 3,
     "metadata": {},
     "output_type": "execute_result"
    }
   ],
   "source": [
    "df=pd.read_csv('/home/cocoslabs/Desktop/log21.csv')\n",
    "df.head()"
   ]
  },
  {
   "cell_type": "code",
   "execution_count": 4,
   "metadata": {},
   "outputs": [
    {
     "data": {
      "text/plain": [
       "sl            False\n",
       "region        False\n",
       "class          True\n",
       "object         True\n",
       "no object      True\n",
       "avg_recall     True\n",
       "count          True\n",
       "dtype: bool"
      ]
     },
     "execution_count": 4,
     "metadata": {},
     "output_type": "execute_result"
    }
   ],
   "source": [
    "df.isnull().any()"
   ]
  },
  {
   "cell_type": "code",
   "execution_count": 5,
   "metadata": {},
   "outputs": [],
   "source": [
    "df.dropna(inplace=True)"
   ]
  },
  {
   "cell_type": "code",
   "execution_count": 6,
   "metadata": {},
   "outputs": [],
   "source": [
    "import matplotlib.pyplot as plt\n",
    "\n",
    "x1=df[\"class\"].astype(float)"
   ]
  },
  {
   "cell_type": "code",
   "execution_count": 7,
   "metadata": {},
   "outputs": [],
   "source": [
    "x2=df[\"avg_recall\"].astype(float)"
   ]
  },
  {
   "cell_type": "code",
   "execution_count": 8,
   "metadata": {},
   "outputs": [],
   "source": [
    "x3=df[\"region\"].astype(float)\n",
    "y=df['sl'].astype(float)"
   ]
  },
  {
   "cell_type": "code",
   "execution_count": 15,
   "metadata": {},
   "outputs": [
    {
     "data": {
      "image/png": "[encoded data removed]",
      "text/plain": [
       "<Figure size 720x360 with 1 Axes>"
      ]
     },
     "metadata": {
      "needs_background": "light"
     },
     "output_type": "display_data"
    }
   ],
   "source": [
    "plt.figure(figsize=(10,5))\n",
    "plt.xlabel('sl')\n",
    "plt.ylabel('class,avg_recall,region')\n",
    "plt.plot(y,x1,'r',label='class')\n",
    "plt.plot(y,x2,'b',label='avg_recall')\n",
    "plt.plot(y,x3,'g',label='region_iuo')\n",
    "plt.legend(loc='lower right')\n",
    "plt.show()"
   ]
  },
  {
   "cell_type": "code",
   "execution_count": null,
   "metadata": {},
   "outputs": [],
   "source": []
  }
 ],
 "metadata": {
  "kernelspec": {
   "display_name": "Python 3",
   "language": "python",
   "name": "python3"
  },
  "language_info": {
   "codemirror_mode": {
    "name": "ipython",
    "version": 3
   },
   "file_extension": ".py",
   "mimetype": "text/x-python",
   "name": "python",
   "nbconvert_exporter": "python",
   "pygments_lexer": "ipython3",
   "version": "3.7.3"
  }
 },
 "nbformat": 4,
 "nbformat_minor": 2
}
