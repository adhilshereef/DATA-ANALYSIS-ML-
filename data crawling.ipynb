{
 "cells": [
  {
   "cell_type": "code",
   "execution_count": 11,
   "metadata": {},
   "outputs": [],
   "source": [
    "import os"
   ]
  },
  {
   "cell_type": "code",
   "execution_count": 13,
   "metadata": {},
   "outputs": [
    {
     "ename": "IndentationError",
     "evalue": "expected an indented block (<ipython-input-13-91a871f5bb04>, line 23)",
     "output_type": "error",
     "traceback": [
      "\u001b[0;36m  File \u001b[0;32m\"<ipython-input-13-91a871f5bb04>\"\u001b[0;36m, line \u001b[0;32m23\u001b[0m\n\u001b[0;31m    create_project_dir('data_crawl')\u001b[0m\n\u001b[0m                                        ^\u001b[0m\n\u001b[0;31mIndentationError\u001b[0m\u001b[0;31m:\u001b[0m expected an indented block\n"
     ]
    }
   ],
   "source": [
    "def create_project_dir(directory):\n",
    "    if not os.path.exists(directory):\n",
    "        print(\"creating project\"+ directory)\n",
    "        os.makedirs(directory)\n",
    "\n",
    "\n",
    "\n",
    "def create_data_files(project_name,base_url):\n",
    "    queue=project_name+'/queue.txt'\n",
    "    crawled=project_name+'/crawled.txt'\n",
    "    if not os.path.isfile(queue):\n",
    "        write_file(queue,base_url)\n",
    "    if not os.path.isfile(crawled):\n",
    "        write_file(crawled,'')\n",
    "\n",
    "def  write_file(path,data):\n",
    "    f=open(path,'w')\n",
    "    f.write(data)\n",
    "    f.close()\n",
    "    \n",
    "def add_contents(path,data):\n",
    "    with open(path,'a') as file:\n",
    "        file.open('w'+'/n')\n",
    "def delete_contents(path):\n",
    "    with open(path,'w'):\n",
    "        pass\n",
    "create_project_dir('data_crawl')    \n",
    "create_data_files('data_crawl','https://www.promptcloud.com/data-crawling-service/')\n",
    "    "
   ]
  },
  {
   "cell_type": "code",
   "execution_count": null,
   "metadata": {},
   "outputs": [],
   "source": []
  }
 ],
 "metadata": {
  "kernelspec": {
   "display_name": "Python 3",
   "language": "python",
   "name": "python3"
  },
  "language_info": {
   "codemirror_mode": {
    "name": "ipython",
    "version": 3
   },
   "file_extension": ".py",
   "mimetype": "text/x-python",
   "name": "python",
   "nbconvert_exporter": "python",
   "pygments_lexer": "ipython3",
   "version": "3.7.3"
  }
 },
 "nbformat": 4,
 "nbformat_minor": 2
}
